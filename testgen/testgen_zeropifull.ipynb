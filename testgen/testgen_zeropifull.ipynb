{
 "cells": [
  {
   "cell_type": "markdown",
   "metadata": {},
   "source": [
    "# Initialization"
   ]
  },
  {
   "cell_type": "code",
   "execution_count": 1,
   "metadata": {
    "ExecuteTime": {
     "end_time": "2020-02-22T19:23:57.195947Z",
     "start_time": "2020-02-22T19:23:53.080836Z"
    },
    "init_cell": true,
    "pycharm": {
     "is_executing": false
    },
    "scrolled": true
   },
   "outputs": [],
   "source": [
    "%matplotlib inline\n",
    "%config InlineBackend.figure_format = 'svg'\n",
    "\n",
    "import scqubits as qubit\n",
    "import scqubits.utils.plotting as plot\n",
    "\n",
    "import numpy as np"
   ]
  },
  {
   "cell_type": "markdown",
   "metadata": {
    "ExecuteTime": {
     "end_time": "2016-05-20T21:34:43.019935",
     "start_time": "2016-05-20T21:34:43.017085"
    }
   },
   "source": [
    "# Full 0-pi qubit, including coupling to zeta mode"
   ]
  },
  {
   "cell_type": "markdown",
   "metadata": {},
   "source": [
    "$H = H_{0-\\pi} + H_\\text{int} + H_\\zeta$\n",
    "\n",
    "where \n",
    "\n",
    "$ H_{0-\\pi}=H_\\text{sym} +2E_{C\\Sigma}(\\delta C_J/C_J)\\partial_\\phi\\partial_\\theta +2\\,\\delta E_J \\sin\\theta\\sin(\\phi-\\phi_\\text{ext}/2)$\n",
    "\n",
    "$ H_\\text{int} = 2E_{C\\Sigma}dC\\,\\partial_\\theta\\partial_\\zeta + E_L dE_L \\phi\\,\\zeta$\n",
    "\n",
    "$ H_\\zeta = \\omega_\\zeta a^\\dagger a$"
   ]
  },
  {
   "cell_type": "code",
   "execution_count": 2,
   "metadata": {
    "ExecuteTime": {
     "end_time": "2020-02-22T19:23:57.226833Z",
     "start_time": "2020-02-22T19:23:57.207965Z"
    }
   },
   "outputs": [],
   "source": [
    "phi_grid = qubit.Grid1d(-8*np.pi, 8*np.pi, 360)\n",
    "\n",
    "# parameters for the modified 0-\\pi circuit\n",
    "EJ_CONST  = 1/3.95\n",
    "ECJ_CONST = 1/(8.0*EJ_CONST)\n",
    "ECS_CONST = 10.0**(-3)\n",
    "\n",
    "zpifull = qubit.FullZeroPi(\n",
    "    zeropi_cutoff = 10,\n",
    "    zeta_cutoff = 40,\n",
    "    grid = phi_grid,\n",
    "    ncut = 30,\n",
    "    EJ  = EJ_CONST,\n",
    "    dEJ = 0.05,\n",
    "    EL  = 10.0**(-3),\n",
    "    dEL = 0.05,\n",
    "    ECJ = ECJ_CONST,\n",
    "    dCJ = 0.05,\n",
    "    EC  = 0.001,\n",
    "    ECS = None,\n",
    "    dC  = 0.08,\n",
    "    ng = 0.3,\n",
    "    flux = 0.2\n",
    ")"
   ]
  },
  {
   "cell_type": "code",
   "execution_count": 5,
   "metadata": {
    "ExecuteTime": {
     "end_time": "2020-02-22T19:24:35.679395Z",
     "start_time": "2020-02-22T19:23:57.248304Z"
    }
   },
   "outputs": [
    {
     "data": {
      "text/plain": [
       "array([0.42713142, 0.42792708, 0.42995685, 0.43075218, 0.43278229,\n",
       "       0.43357728, 0.43560773, 0.43640237, 0.43843316, 0.43922747,\n",
       "       0.4412586 , 0.44205256, 0.44408403, 0.44487766, 0.44690947,\n",
       "       0.44770276, 0.44973491, 0.45052786, 0.45256034, 0.45335295,\n",
       "       0.45538578, 0.45560554, 0.45617805, 0.4562802 , 0.45821122,\n",
       "       0.45843169, 0.45900315, 0.45910533, 0.46103665, 0.46125784,\n",
       "       0.46182824, 0.46193046, 0.46386209, 0.46408399, 0.46465334,\n",
       "       0.46475559, 0.46668753, 0.46691015, 0.46747844, 0.46758073])"
      ]
     },
     "execution_count": 5,
     "metadata": {},
     "output_type": "execute_result"
    }
   ],
   "source": [
    "TESTNAME = 'fullzeropi_1.hdf5'\n",
    "\n",
    "zpifull.eigenvals(evals_count=40, filename='./data/' + TESTNAME)"
   ]
  },
  {
   "cell_type": "code",
   "execution_count": 8,
   "metadata": {},
   "outputs": [],
   "source": [
    "TESTNAME = 'fullzeropi_2.hdf5'\n",
    "\n",
    "evals, evecs = zpifull.eigensys(evals_count=2,  filename='./data/' + TESTNAME)"
   ]
  },
  {
   "cell_type": "code",
   "execution_count": null,
   "metadata": {},
   "outputs": [],
   "source": []
  }
 ],
 "metadata": {
  "celltoolbar": "Initialisation Cell",
  "kernelspec": {
   "display_name": "Python 3 (ipykernel)",
   "language": "python",
   "name": "python3"
  },
  "language_info": {
   "codemirror_mode": {
    "name": "ipython",
    "version": 3
   },
   "file_extension": ".py",
   "mimetype": "text/x-python",
   "name": "python",
   "nbconvert_exporter": "python",
   "pygments_lexer": "ipython3",
   "version": "3.9.12"
  },
  "pycharm": {
   "stem_cell": {
    "cell_type": "raw",
    "metadata": {
     "collapsed": false
    },
    "source": []
   }
  },
  "toc": {
   "toc_cell": false,
   "toc_number_sections": true,
   "toc_threshold": 6,
   "toc_window_display": false
  },
  "widgets": {
   "application/vnd.jupyter.widget-state+json": {
    "state": {},
    "version_major": 2,
    "version_minor": 0
   }
  }
 },
 "nbformat": 4,
 "nbformat_minor": 4
}
